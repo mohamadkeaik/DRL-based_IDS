{
 "cells": [
  {
   "cell_type": "code",
   "execution_count": 1,
   "id": "df50d0c7",
   "metadata": {},
   "outputs": [],
   "source": [
    "import math\n",
    "import random\n",
    "import numpy as np\n",
    "import pandas as pd\n",
    "import matplotlib \n",
    "import matplotlib.pyplot as plt\n",
    "import re\n",
    "from collections import namedtuple\n",
    "from itertools import count\n",
    "import torch\n",
    "import torch.nn as nn\n",
    "import torch.optim as optim\n",
    "import torch.nn.functional as F\n",
    "import torchvision.transforms as T"
   ]
  },
  {
   "cell_type": "code",
   "execution_count": 2,
   "id": "7e0f6f3e",
   "metadata": {},
   "outputs": [],
   "source": [
    "#Settings\n",
    "pd.set_option(\"display.max_columns\", None)\n",
    "pd.set_option(\"display.max_rows\", None)"
   ]
  },
  {
   "cell_type": "code",
   "execution_count": 3,
   "id": "4a840e16",
   "metadata": {},
   "outputs": [],
   "source": [
    "#Read the preprocessed Data\n",
    "filepath = './CICIDS2017_preprocessed'\n",
    "dataset = pd.read_csv(filepath)"
   ]
  },
  {
   "cell_type": "code",
   "execution_count": 4,
   "id": "3591b4f2",
   "metadata": {},
   "outputs": [
    {
     "name": "stdout",
     "output_type": "stream",
     "text": [
      "(2830743, 20)\n"
     ]
    }
   ],
   "source": [
    "Label_binary = dataset['Label_binary'].values\n",
    "data = dataset.drop(['Label_binary'], axis=1).values\n",
    "print(data.shape)"
   ]
  },
  {
   "cell_type": "code",
   "execution_count": 5,
   "id": "647ff72d",
   "metadata": {},
   "outputs": [],
   "source": [
    "from sklearn.model_selection import train_test_split\n",
    "X_train,X_test,y_train,y_test = train_test_split(data,Label_binary,test_size=0.3,random_state=4)"
   ]
  },
  {
   "cell_type": "code",
   "execution_count": 6,
   "id": "2a0177d9",
   "metadata": {},
   "outputs": [],
   "source": [
    "from tensorflow.keras.models import Sequential\n",
    "from tensorflow.keras.layers import Dense\n",
    "from tensorflow.keras.optimizers import SGD"
   ]
  },
  {
   "cell_type": "code",
   "execution_count": 7,
   "id": "7f940b89",
   "metadata": {},
   "outputs": [],
   "source": [
    "import tensorflow as tf\n",
    "tf.keras.backend.set_floatx('float64')"
   ]
  },
  {
   "cell_type": "code",
   "execution_count": 8,
   "id": "1508e47b",
   "metadata": {},
   "outputs": [],
   "source": [
    "model = Sequential()\n",
    "\n",
    "model.add(Dense(20,activation='relu'))\n",
    "model.add(Dense(40,activation='relu'))\n",
    "model.add(Dense(40,activation='relu'))\n",
    "model.add(Dense(1,activation='sigmoid'))\n",
    "opt = SGD(lr = 0.001, momentum=0.9)\n",
    "model.compile(loss='binary_crossentropy',optimizer=opt,metrics=['accuracy'])"
   ]
  },
  {
   "cell_type": "code",
   "execution_count": 9,
   "id": "4616b411",
   "metadata": {},
   "outputs": [
    {
     "name": "stdout",
     "output_type": "stream",
     "text": [
      "Epoch 1/15\n",
      "61923/61923 [==============================] - 45s 731us/step - loss: 0.3363 - accuracy: 0.8703 - val_loss: 0.2552 - val_accuracy: 0.8846\n",
      "Epoch 2/15\n",
      "61923/61923 [==============================] - 42s 671us/step - loss: 0.2081 - accuracy: 0.9117 - val_loss: 0.1732 - val_accuracy: 0.9241\n",
      "Epoch 3/15\n",
      "61923/61923 [==============================] - 42s 682us/step - loss: 0.1511 - accuracy: 0.9333 - val_loss: 0.1380 - val_accuracy: 0.9423\n",
      "Epoch 4/15\n",
      "61923/61923 [==============================] - 40s 646us/step - loss: 0.1290 - accuracy: 0.9436 - val_loss: 0.1242 - val_accuracy: 0.9429\n",
      "Epoch 5/15\n",
      "61923/61923 [==============================] - 38s 609us/step - loss: 0.1201 - accuracy: 0.9468 - val_loss: 0.1204 - val_accuracy: 0.9472\n",
      "Epoch 6/15\n",
      "61923/61923 [==============================] - 38s 617us/step - loss: 0.1153 - accuracy: 0.9485 - val_loss: 0.1139 - val_accuracy: 0.9455\n",
      "Epoch 7/15\n",
      "61923/61923 [==============================] - 38s 617us/step - loss: 0.1119 - accuracy: 0.9496 - val_loss: 0.1103 - val_accuracy: 0.9505\n",
      "Epoch 8/15\n",
      "61923/61923 [==============================] - 38s 613us/step - loss: 0.1094 - accuracy: 0.9504 - val_loss: 0.1079 - val_accuracy: 0.9500\n",
      "Epoch 9/15\n",
      "61923/61923 [==============================] - 38s 614us/step - loss: 0.1074 - accuracy: 0.9511 - val_loss: 0.1063 - val_accuracy: 0.9518\n",
      "Epoch 10/15\n",
      "61923/61923 [==============================] - 38s 616us/step - loss: 0.1057 - accuracy: 0.9517 - val_loss: 0.1049 - val_accuracy: 0.9522\n",
      "Epoch 11/15\n",
      "61923/61923 [==============================] - 38s 616us/step - loss: 0.1037 - accuracy: 0.9526 - val_loss: 0.1016 - val_accuracy: 0.9527\n",
      "Epoch 12/15\n",
      "61923/61923 [==============================] - 38s 618us/step - loss: 0.1019 - accuracy: 0.9533 - val_loss: 0.1048 - val_accuracy: 0.9558\n",
      "Epoch 13/15\n",
      "61923/61923 [==============================] - 39s 633us/step - loss: 0.1003 - accuracy: 0.9539 - val_loss: 0.1038 - val_accuracy: 0.9541\n",
      "Epoch 14/15\n",
      "61923/61923 [==============================] - 38s 619us/step - loss: 0.0986 - accuracy: 0.9546 - val_loss: 0.0969 - val_accuracy: 0.9526\n",
      "Epoch 15/15\n",
      "61923/61923 [==============================] - 39s 632us/step - loss: 0.0971 - accuracy: 0.9551 - val_loss: 0.0947 - val_accuracy: 0.9555\n"
     ]
    },
    {
     "data": {
      "text/plain": [
       "<tensorflow.python.keras.callbacks.History at 0x7fc901f714f0>"
      ]
     },
     "execution_count": 9,
     "metadata": {},
     "output_type": "execute_result"
    }
   ],
   "source": [
    "model.fit(x=X_train,y=y_train,epochs =15,validation_data=(X_test,y_test),verbose=1)"
   ]
  },
  {
   "cell_type": "code",
   "execution_count": 10,
   "id": "32c58810",
   "metadata": {},
   "outputs": [
    {
     "data": {
      "image/png": "[encoded data removed]",
      "text/plain": [
       "<Figure size 432x288 with 2 Axes>"
      ]
     },
     "metadata": {
      "needs_background": "light"
     },
     "output_type": "display_data"
    }
   ],
   "source": [
    "from matplotlib import pyplot as plt\n",
    "pyplot.subplot(211)\n",
    "pyplot.title('Loss with lr=0.0001 and SGD')\n",
    "pyplot.plot(model.history.history['loss'], label='train')\n",
    "pyplot.plot(model.history.history['val_loss'], label='test')\n",
    "pyplot.legend()\n",
    "# plot accuracy during training\n",
    "pyplot.subplot(212)\n",
    "pyplot.title('Accuracy with lr=0.0001 and SGD')\n",
    "pyplot.plot(model.history.history['accuracy'], label='train')\n",
    "pyplot.plot(model.history.history['val_accuracy'], label='test')\n",
    "pyplot.legend()\n",
    "plt.subplots_adjust(left=0.1,\n",
    "                    bottom=0.1, \n",
    "                    right=0.9, \n",
    "                    top=0.9, \n",
    "                    wspace=0.4, \n",
    "                    hspace=0.6)\n",
    "pyplot.show()"
   ]
  },
  {
   "cell_type": "code",
   "execution_count": 13,
   "id": "04849080",
   "metadata": {},
   "outputs": [],
   "source": [
    "from sklearn.metrics import ConfusionMatrixDisplay\n",
    "from sklearn.metrics import confusion_matrix"
   ]
  },
  {
   "cell_type": "code",
   "execution_count": 14,
   "id": "121d3ff6",
   "metadata": {},
   "outputs": [
    {
     "name": "stdout",
     "output_type": "stream",
     "text": [
      "WARNING:tensorflow:From <ipython-input-14-bc83193b8b59>:1: Sequential.predict_classes (from tensorflow.python.keras.engine.sequential) is deprecated and will be removed after 2021-01-01.\n",
      "Instructions for updating:\n",
      "Please use instead:* `np.argmax(model.predict(x), axis=-1)`,   if your model does multi-class classification   (e.g. if it uses a `softmax` last-layer activation).* `(model.predict(x) > 0.5).astype(\"int32\")`,   if your model does binary classification   (e.g. if it uses a `sigmoid` last-layer activation).\n"
     ]
    }
   ],
   "source": [
    "predictions = model.predict_classes(X_test)"
   ]
  },
  {
   "cell_type": "code",
   "execution_count": 17,
   "id": "a63e38af",
   "metadata": {},
   "outputs": [],
   "source": [
    "cm = confusion_matrix(y_test, predictions)"
   ]
  },
  {
   "cell_type": "code",
   "execution_count": 18,
   "id": "1ff420a1",
   "metadata": {},
   "outputs": [],
   "source": [
    "disp = ConfusionMatrixDisplay(confusion_matrix=cm, display_labels=[\"Benign\",\"Attack\"])"
   ]
  },
  {
   "cell_type": "code",
   "execution_count": 19,
   "id": "b30e95b0",
   "metadata": {},
   "outputs": [
    {
     "data": {
      "image/png": "[encoded data removed]",
      "text/plain": [
       "<Figure size 432x288 with 2 Axes>"
      ]
     },
     "metadata": {
      "needs_background": "light"
     },
     "output_type": "display_data"
    }
   ],
   "source": [
    "disp.plot(cmap=plt.cm.Blues)\n",
    "plt.show()"
   ]
  },
  {
   "cell_type": "code",
   "execution_count": 11,
   "id": "8c5680b9",
   "metadata": {},
   "outputs": [
    {
     "name": "stdout",
     "output_type": "stream",
     "text": [
      "Model: \"sequential\"\n",
      "_________________________________________________________________\n",
      "Layer (type)                 Output Shape              Param #   \n",
      "=================================================================\n",
      "dense (Dense)                (None, 20)                420       \n",
      "_________________________________________________________________\n",
      "dense_1 (Dense)              (None, 40)                840       \n",
      "_________________________________________________________________\n",
      "dense_2 (Dense)              (None, 40)                1640      \n",
      "_________________________________________________________________\n",
      "dense_3 (Dense)              (None, 1)                 41        \n",
      "=================================================================\n",
      "Total params: 2,941\n",
      "Trainable params: 2,941\n",
      "Non-trainable params: 0\n",
      "_________________________________________________________________\n",
      "None\n"
     ]
    },
    {
     "data": {
      "text/plain": [
       "<AxesSubplot:>"
      ]
     },
     "execution_count": 11,
     "metadata": {},
     "output_type": "execute_result"
    },
    {
     "data": {
      "image/png": "[encoded data removed]",
      "text/plain": [
       "<Figure size 432x288 with 1 Axes>"
      ]
     },
     "metadata": {
      "needs_background": "light"
     },
     "output_type": "display_data"
    }
   ],
   "source": [
    "print(model.summary())\n",
    "losses = pd.DataFrame({'loss':model.history.history['loss'],'val_loss':model.history.history['val_loss']})\n",
    "losses.plot()"
   ]
  },
  {
   "cell_type": "code",
   "execution_count": null,
   "id": "a66fe3de",
   "metadata": {},
   "outputs": [],
   "source": [
    "   ''' \n",
    "    def get_reward(self, action, true_label):\n",
    "        reward=[]\n",
    "        print(type(action),type(true_label))\n",
    "        print(true_label)\n",
    "        for p, t in zip(action,true_label): #0=benign 1=Attack\n",
    "            if p==1 and t==1:\n",
    "                reward.append(+10) #positive high reward because classification is valid\n",
    "            elif p==0 and t==1:\n",
    "                reward.append(-10) #negative high reward because classification is not valid\n",
    "            elif p==1 and t==0:\n",
    "                reward.append(-5)  #negative low reward because classification is \n",
    "            else:\n",
    "                reward.append(+5) #negative reward as result is misclassified, only condition left is p=0 and t=0\n",
    "        return reward'''"
   ]
  }
 ],
 "metadata": {
  "kernelspec": {
   "display_name": "Python 3",
   "language": "python",
   "name": "python3"
  },
  "language_info": {
   "codemirror_mode": {
    "name": "ipython",
    "version": 3
   },
   "file_extension": ".py",
   "mimetype": "text/x-python",
   "name": "python",
   "nbconvert_exporter": "python",
   "pygments_lexer": "ipython3",
   "version": "3.8.8"
  }
 },
 "nbformat": 4,
 "nbformat_minor": 5
}
