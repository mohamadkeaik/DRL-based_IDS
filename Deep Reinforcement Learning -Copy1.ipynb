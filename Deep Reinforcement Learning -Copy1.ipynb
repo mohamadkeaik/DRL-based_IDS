{
 "cells": [
  {
   "cell_type": "markdown",
   "id": "a28e4a1c",
   "metadata": {},
   "source": [
    "###### Creating the classes for the DRL algorithm"
   ]
  },
  {
   "cell_type": "code",
   "execution_count": 1,
   "id": "9c58407d",
   "metadata": {},
   "outputs": [],
   "source": [
    "%matplotlib inline\n",
    "import math\n",
    "import random\n",
    "import numpy as np\n",
    "import pandas as pd\n",
    "import matplotlib \n",
    "import matplotlib.pyplot as plt\n",
    "import re\n",
    "from collections import namedtuple\n",
    "from itertools import count\n",
    "import torch\n",
    "import torch.nn as nn\n",
    "import torch.optim as optim\n",
    "import torch.nn.functional as F\n",
    "import torchvision.transforms as T\n"
   ]
  },
  {
   "cell_type": "code",
   "execution_count": 2,
   "id": "0864f0d5",
   "metadata": {},
   "outputs": [],
   "source": [
    "#Settings\n",
    "pd.set_option(\"display.max_columns\", None)\n",
    "pd.set_option(\"display.max_rows\", None)"
   ]
  },
  {
   "cell_type": "code",
   "execution_count": 3,
   "id": "dfe97a11",
   "metadata": {},
   "outputs": [],
   "source": [
    "filepath = './CICIDS2017_preprocessed'\n",
    "dataset = pd.read_csv(filepath)"
   ]
  },
  {
   "cell_type": "code",
   "execution_count": 4,
   "id": "09cdf33d",
   "metadata": {},
   "outputs": [
    {
     "data": {
      "text/plain": [
       "(2830743, 21)"
      ]
     },
     "execution_count": 4,
     "metadata": {},
     "output_type": "execute_result"
    }
   ],
   "source": [
    "dataset.shape"
   ]
  },
  {
   "cell_type": "code",
   "execution_count": 5,
   "id": "0c71deaf",
   "metadata": {},
   "outputs": [
    {
     "data": {
      "text/html": [
       "<div>\n",
       "<style scoped>\n",
       "    .dataframe tbody tr th:only-of-type {\n",
       "        vertical-align: middle;\n",
       "    }\n",
       "\n",
       "    .dataframe tbody tr th {\n",
       "        vertical-align: top;\n",
       "    }\n",
       "\n",
       "    .dataframe thead th {\n",
       "        text-align: right;\n",
       "    }\n",
       "</style>\n",
       "<table border=\"1\" class=\"dataframe\">\n",
       "  <thead>\n",
       "    <tr style=\"text-align: right;\">\n",
       "      <th></th>\n",
       "      <th>Destination Port</th>\n",
       "      <th>Flow Duration</th>\n",
       "      <th>Fwd Packet Length Max</th>\n",
       "      <th>Bwd Packet Length Std</th>\n",
       "      <th>Flow IAT Std</th>\n",
       "      <th>Flow IAT Min</th>\n",
       "      <th>Fwd IAT Mean</th>\n",
       "      <th>Fwd IAT Min</th>\n",
       "      <th>Bwd IAT Mean</th>\n",
       "      <th>Bwd IAT Std</th>\n",
       "      <th>Fwd Packets/s</th>\n",
       "      <th>Packet Length Mean</th>\n",
       "      <th>Packet Length Std</th>\n",
       "      <th>PSH Flag Count</th>\n",
       "      <th>Average Packet Size</th>\n",
       "      <th>Avg Bwd Segment Size</th>\n",
       "      <th>Subflow Fwd Packets</th>\n",
       "      <th>Init_Win_bytes_forward</th>\n",
       "      <th>Init_Win_bytes_backward</th>\n",
       "      <th>Active Std</th>\n",
       "      <th>Label_binary</th>\n",
       "    </tr>\n",
       "  </thead>\n",
       "  <tbody>\n",
       "    <tr>\n",
       "      <th>0</th>\n",
       "      <td>0.000336</td>\n",
       "      <td>1.491667e-06</td>\n",
       "      <td>0.000000</td>\n",
       "      <td>0.0</td>\n",
       "      <td>0.000000e+00</td>\n",
       "      <td>1.500000e-06</td>\n",
       "      <td>0.000000</td>\n",
       "      <td>9.999999e-08</td>\n",
       "      <td>0.000000e+00</td>\n",
       "      <td>0.0</td>\n",
       "      <td>2.008032e-03</td>\n",
       "      <td>0.000000</td>\n",
       "      <td>0.0</td>\n",
       "      <td>0.0</td>\n",
       "      <td>0.000000</td>\n",
       "      <td>0.000000</td>\n",
       "      <td>0.000000</td>\n",
       "      <td>0.004440</td>\n",
       "      <td>0.003723</td>\n",
       "      <td>0.000000</td>\n",
       "      <td>0</td>\n",
       "    </tr>\n",
       "    <tr>\n",
       "      <th>1</th>\n",
       "      <td>0.917800</td>\n",
       "      <td>7.999999e-07</td>\n",
       "      <td>0.000000</td>\n",
       "      <td>0.0</td>\n",
       "      <td>1.250775e-07</td>\n",
       "      <td>4.000000e-07</td>\n",
       "      <td>0.000000</td>\n",
       "      <td>9.999999e-08</td>\n",
       "      <td>4.083333e-07</td>\n",
       "      <td>0.0</td>\n",
       "      <td>4.016064e-03</td>\n",
       "      <td>0.000000</td>\n",
       "      <td>0.0</td>\n",
       "      <td>0.0</td>\n",
       "      <td>0.000000</td>\n",
       "      <td>0.000000</td>\n",
       "      <td>0.000000</td>\n",
       "      <td>0.003723</td>\n",
       "      <td>0.004440</td>\n",
       "      <td>0.000000</td>\n",
       "      <td>0</td>\n",
       "    </tr>\n",
       "    <tr>\n",
       "      <th>2</th>\n",
       "      <td>0.001877</td>\n",
       "      <td>8.329999e-04</td>\n",
       "      <td>0.001934</td>\n",
       "      <td>0.0</td>\n",
       "      <td>0.000000e+00</td>\n",
       "      <td>8.330082e-04</td>\n",
       "      <td>0.000000</td>\n",
       "      <td>9.999999e-08</td>\n",
       "      <td>0.000000e+00</td>\n",
       "      <td>0.0</td>\n",
       "      <td>3.335101e-06</td>\n",
       "      <td>0.014384</td>\n",
       "      <td>0.0</td>\n",
       "      <td>0.0</td>\n",
       "      <td>0.018493</td>\n",
       "      <td>0.008275</td>\n",
       "      <td>0.000000</td>\n",
       "      <td>0.000000</td>\n",
       "      <td>0.000000</td>\n",
       "      <td>0.000000</td>\n",
       "      <td>0</td>\n",
       "    </tr>\n",
       "    <tr>\n",
       "      <th>3</th>\n",
       "      <td>0.001877</td>\n",
       "      <td>3.085833e-04</td>\n",
       "      <td>0.001934</td>\n",
       "      <td>0.0</td>\n",
       "      <td>0.000000e+00</td>\n",
       "      <td>3.085916e-04</td>\n",
       "      <td>0.000000</td>\n",
       "      <td>9.999999e-08</td>\n",
       "      <td>0.000000e+00</td>\n",
       "      <td>0.0</td>\n",
       "      <td>9.004872e-06</td>\n",
       "      <td>0.014384</td>\n",
       "      <td>0.0</td>\n",
       "      <td>0.0</td>\n",
       "      <td>0.018493</td>\n",
       "      <td>0.008275</td>\n",
       "      <td>0.000000</td>\n",
       "      <td>0.000000</td>\n",
       "      <td>0.000000</td>\n",
       "      <td>0.000000</td>\n",
       "      <td>0</td>\n",
       "    </tr>\n",
       "    <tr>\n",
       "      <th>4</th>\n",
       "      <td>0.000000</td>\n",
       "      <td>9.263445e-01</td>\n",
       "      <td>0.000000</td>\n",
       "      <td>0.0</td>\n",
       "      <td>2.995055e-02</td>\n",
       "      <td>1.166667e-07</td>\n",
       "      <td>0.006345</td>\n",
       "      <td>9.999999e-08</td>\n",
       "      <td>0.000000e+00</td>\n",
       "      <td>0.0</td>\n",
       "      <td>4.408007e-07</td>\n",
       "      <td>0.000000</td>\n",
       "      <td>0.0</td>\n",
       "      <td>0.0</td>\n",
       "      <td>0.000000</td>\n",
       "      <td>0.000000</td>\n",
       "      <td>0.000664</td>\n",
       "      <td>0.000000</td>\n",
       "      <td>0.000000</td>\n",
       "      <td>0.028615</td>\n",
       "      <td>0</td>\n",
       "    </tr>\n",
       "  </tbody>\n",
       "</table>\n",
       "</div>"
      ],
      "text/plain": [
       "   Destination Port  Flow Duration  Fwd Packet Length Max  \\\n",
       "0          0.000336   1.491667e-06               0.000000   \n",
       "1          0.917800   7.999999e-07               0.000000   \n",
       "2          0.001877   8.329999e-04               0.001934   \n",
       "3          0.001877   3.085833e-04               0.001934   \n",
       "4          0.000000   9.263445e-01               0.000000   \n",
       "\n",
       "   Bwd Packet Length Std  Flow IAT Std  Flow IAT Min  Fwd IAT Mean  \\\n",
       "0                    0.0  0.000000e+00  1.500000e-06      0.000000   \n",
       "1                    0.0  1.250775e-07  4.000000e-07      0.000000   \n",
       "2                    0.0  0.000000e+00  8.330082e-04      0.000000   \n",
       "3                    0.0  0.000000e+00  3.085916e-04      0.000000   \n",
       "4                    0.0  2.995055e-02  1.166667e-07      0.006345   \n",
       "\n",
       "    Fwd IAT Min  Bwd IAT Mean  Bwd IAT Std  Fwd Packets/s  Packet Length Mean  \\\n",
       "0  9.999999e-08  0.000000e+00          0.0   2.008032e-03            0.000000   \n",
       "1  9.999999e-08  4.083333e-07          0.0   4.016064e-03            0.000000   \n",
       "2  9.999999e-08  0.000000e+00          0.0   3.335101e-06            0.014384   \n",
       "3  9.999999e-08  0.000000e+00          0.0   9.004872e-06            0.014384   \n",
       "4  9.999999e-08  0.000000e+00          0.0   4.408007e-07            0.000000   \n",
       "\n",
       "   Packet Length Std  PSH Flag Count  Average Packet Size  \\\n",
       "0                0.0             0.0             0.000000   \n",
       "1                0.0             0.0             0.000000   \n",
       "2                0.0             0.0             0.018493   \n",
       "3                0.0             0.0             0.018493   \n",
       "4                0.0             0.0             0.000000   \n",
       "\n",
       "   Avg Bwd Segment Size  Subflow Fwd Packets  Init_Win_bytes_forward  \\\n",
       "0              0.000000             0.000000                0.004440   \n",
       "1              0.000000             0.000000                0.003723   \n",
       "2              0.008275             0.000000                0.000000   \n",
       "3              0.008275             0.000000                0.000000   \n",
       "4              0.000000             0.000664                0.000000   \n",
       "\n",
       "   Init_Win_bytes_backward  Active Std  Label_binary  \n",
       "0                 0.003723    0.000000             0  \n",
       "1                 0.004440    0.000000             0  \n",
       "2                 0.000000    0.000000             0  \n",
       "3                 0.000000    0.000000             0  \n",
       "4                 0.000000    0.028615             0  "
      ]
     },
     "execution_count": 5,
     "metadata": {},
     "output_type": "execute_result"
    }
   ],
   "source": [
    "dataset.head()"
   ]
  },
  {
   "cell_type": "code",
   "execution_count": 6,
   "id": "f5d42495",
   "metadata": {},
   "outputs": [
    {
     "name": "stdout",
     "output_type": "stream",
     "text": [
      "(2830743, 20)\n"
     ]
    }
   ],
   "source": [
    "Label = dataset['Label_binary']\n",
    "data = dataset.drop(['Label_binary'], axis=1)\n",
    "print(data.shape)"
   ]
  },
  {
   "cell_type": "markdown",
   "id": "cc6b990c",
   "metadata": {},
   "source": [
    "# Environment class"
   ]
  },
  {
   "cell_type": "code",
   "execution_count": 7,
   "id": "592b4bb2",
   "metadata": {},
   "outputs": [],
   "source": [
    "class Environment:\n",
    "    def __init__(self,data, label):\n",
    "        self.data = data\n",
    "        self.label = label\n",
    "        self.action_space = [0,1]\n",
    "        self.num_actions = len(self.action_space)\n",
    "        self.last_data_index = len(self.data) - 1\n",
    "        self.step_count = 0\n",
    "        self.done = False\n",
    "\n",
    "    def get_state(self, bs):\n",
    "        num_states = self.data.shape[0]//bs\n",
    "        i = np.random.randint(0,num_states)\n",
    "        indices = range(i*bs, (i+1)*bs)\n",
    "        state = torch.from_numpy(self.data.loc[indices].to_numpy().astype(np.float32))\n",
    "        true_label = torch.from_numpy(self.label.loc[indices].to_numpy().astype(np.float32))\n",
    "\n",
    "        return state, true_label\n",
    "\n",
    "    def get_reward(self, action, true_label):\n",
    "\n",
    "        p= action\n",
    "        t=list(true_label)[0]\n",
    "\n",
    "        if p==1 and t==1:\n",
    "            reward = +10 #positive high reward because classification is valid\\n\",\n",
    "        elif p==0 and t==1:\n",
    "            reward = -10 #negative high reward because classification is valid\\n\",\n",
    "        elif p==1 and t==0:\n",
    "            reward = -5 #positive high reward because classification is valid\\n\",\n",
    "        else: \n",
    "            reward = +5 #positive high reward because classification is valid\\n\",\n",
    "        return reward\n",
    "\n",
    "    def reset(self):\n",
    "        self.state = 0\n",
    "        self.done = False\n",
    "        self.step_count = 0"
   ]
  },
  {
   "cell_type": "markdown",
   "id": "92cf0682",
   "metadata": {},
   "source": [
    "# DQN Class"
   ]
  },
  {
   "cell_type": "code",
   "execution_count": 8,
   "id": "b7f04192",
   "metadata": {},
   "outputs": [],
   "source": [
    "class DQN(nn.Module):\n",
    "    def __init__(self, num_states, num_actions):\n",
    "        super().__init__()\n",
    "        \n",
    "        self.fc1 = nn.Linear(in_features = num_states , out_features = 40  )\n",
    "        self.fc2 = nn.Linear(in_features = 40 , out_features = 40 )\n",
    "        self.fc3 = nn.Linear(in_features = 40 , out_features = 40 )\n",
    "        self.out = nn.Linear(in_features = 40 ,out_features = num_actions )\n",
    "        \n",
    "    def forward(self, t):\n",
    "        t = t.flatten(start_dim =1)\n",
    "        t = F.relu(self.fc1(t))\n",
    "        t = F.relu(self.fc2(t))\n",
    "        t = F.relu(self.fc3(t))\n",
    "        t = self.out(t)\n",
    "        return t\n",
    "    "
   ]
  },
  {
   "cell_type": "markdown",
   "id": "8559253d",
   "metadata": {},
   "source": [
    "# Experience Class"
   ]
  },
  {
   "cell_type": "code",
   "execution_count": 9,
   "id": "4f08dfb5",
   "metadata": {},
   "outputs": [],
   "source": [
    "Experience = namedtuple(\n",
    "        'Experience',\n",
    "            ('state', 'action', 'next_state', 'reward')\n",
    ")"
   ]
  },
  {
   "cell_type": "markdown",
   "id": "61d9d401",
   "metadata": {},
   "source": [
    "# Replay Memory Class"
   ]
  },
  {
   "cell_type": "code",
   "execution_count": 10,
   "id": "19b1860d",
   "metadata": {},
   "outputs": [],
   "source": [
    "class ReplayMemory():\n",
    "    def __init__(self,capacity):\n",
    "        self.capacity = capacity\n",
    "        self.memory = []\n",
    "        self.push_count = 0  \n",
    "        \n",
    "    def push(self, experience):\n",
    "        if len(self.memory) < self.capacity:\n",
    "            self.memory.append(experience)\n",
    "        else:\n",
    "            self.memory[self.push_count % self.capacity] =experience\n",
    "        self.push_count += 1\n",
    "    \n",
    "    def sample(self, batch_size):\n",
    "        return random.sample(self.memory, batch_size)\n",
    "    \n",
    "    def can_provide_sample(self, batch_size):\n",
    "        return len(self.memory) >= batch_size"
   ]
  },
  {
   "cell_type": "markdown",
   "id": "9311ad15",
   "metadata": {},
   "source": [
    "# Epsilon Greedy Strategy"
   ]
  },
  {
   "cell_type": "markdown",
   "id": "ed430974",
   "metadata": {},
   "source": [
    "This strategy helps the agent indentify when to exploit and when to explore the environment. This done based on the Epsilon value that we assign. \n",
    "\n",
    "We can also implement the Boltzmann strategy which uses a T varibale that decays "
   ]
  },
  {
   "cell_type": "code",
   "execution_count": 11,
   "id": "fce27ea4",
   "metadata": {},
   "outputs": [],
   "source": [
    "class EpsilonGreedyStrategy():\n",
    "    def __init__(self, start, end, decay):\n",
    "        self.start = start\n",
    "        self.end = end\n",
    "        self.decay = decay\n",
    "    \n",
    "    def get_exploration_rate(self, current_step):\n",
    "        return self.end + (self.start - self.end) * math.exp(-1. * current_step * self.decay)"
   ]
  },
  {
   "cell_type": "markdown",
   "id": "337c0ebe",
   "metadata": {},
   "source": [
    "# Reinforcement Learning Agent"
   ]
  },
  {
   "cell_type": "code",
   "execution_count": 12,
   "id": "85e6287a",
   "metadata": {},
   "outputs": [],
   "source": [
    "class Agent():\n",
    "    def __init__(self, strategy, num_actions):\n",
    "        self.current_step = 0\n",
    "        self.strategy = strategy\n",
    "        self.num_actions = num_actions\n",
    "        \n",
    "    def select_action(self, state, policy_net):\n",
    "        rate = strategy.get_exploration_rate(self.current_step)\n",
    "        self.current_step += 1\n",
    "        \n",
    "        if rate > random.random():\n",
    "            return random.randrange(self.num_actions) #explore\n",
    "        else:\n",
    "            with torch.no_grad():\n",
    "                return policy_net(state).argmax(dim=1).item() #exploit"
   ]
  },
  {
   "cell_type": "markdown",
   "id": "d59a1dde",
   "metadata": {},
   "source": [
    "# Extract tensors"
   ]
  },
  {
   "cell_type": "code",
   "execution_count": 13,
   "id": "6b21a921",
   "metadata": {},
   "outputs": [],
   "source": [
    "def extract_tensors(experiences):\n",
    "    batch = Experience(*zip(*experiences))\n",
    "    \n",
    "\n",
    "    t1= torch.cat(tuple(batch[0]))\n",
    "    t2= torch.cat(tuple((torch.tensor([batch.action]))))\n",
    "    t3= torch.cat(tuple((torch.tensor([batch.reward]))))\n",
    "    t4= torch.cat(tuple(batch[2]))\n",
    "\n",
    "    t1.float()\n",
    "    t2.float()\n",
    "    t3.float()\n",
    "    t4.float()\n",
    "    \n",
    "    return (t1,t2,t3,t4,batch)"
   ]
  },
  {
   "cell_type": "markdown",
   "id": "3df74b20",
   "metadata": {},
   "source": [
    "# Calculating QValues "
   ]
  },
  {
   "cell_type": "code",
   "execution_count": 14,
   "id": "160d19dd",
   "metadata": {},
   "outputs": [],
   "source": [
    "class QValues():\n",
    "    \n",
    "    @staticmethod\n",
    "    def get_current(policy_net, states, actions):\n",
    "        return policy_net(states).gather(dim=1, index=actions.unsqueeze(-1))\n",
    "    \n",
    "    @staticmethod\n",
    "    def get_next(target_net, next_states):\n",
    "        batch_size = next_states.shape[0]\n",
    "        values = torch.zeros(batch_size)\n",
    "        values=target_net(next_states).max(dim=1)[0].detach\n",
    "        return values"
   ]
  },
  {
   "cell_type": "markdown",
   "id": "f83ffe0c",
   "metadata": {},
   "source": [
    "# Main Program"
   ]
  },
  {
   "cell_type": "code",
   "execution_count": 15,
   "id": "5f470459",
   "metadata": {},
   "outputs": [],
   "source": [
    "#Tune and experiment with different values\n",
    "batch_size = 256\n",
    "gamma = 0.750 #discount factor used in bellman's equation\n",
    "eps_start = 1 #Starting value of the exploration rate\n",
    "eps_end = 0.01\n",
    "eps_decay = 0.001\n",
    "target_update = 10  #how frequently in terms of episodes we will update the target_network's weights with the policy network weights\n",
    "memory_size = 100000\n",
    "lr = 0.0001 #learning rate\n",
    "num_episodes = 1000 \n",
    "bs = 1\n",
    "num_actions = 2\n",
    "num_timesteps = 250"
   ]
  },
  {
   "cell_type": "code",
   "execution_count": 16,
   "id": "e87bd1a3",
   "metadata": {},
   "outputs": [],
   "source": [
    "env = Environment(data, Label)\n",
    "num_states = data.shape[1]"
   ]
  },
  {
   "cell_type": "code",
   "execution_count": 17,
   "id": "09a9c071",
   "metadata": {},
   "outputs": [],
   "source": [
    "strategy = EpsilonGreedyStrategy(eps_start, eps_end, eps_decay)\n",
    "agent = Agent(strategy, num_actions)\n",
    "memory = ReplayMemory(memory_size)"
   ]
  },
  {
   "cell_type": "markdown",
   "id": "b7b8e0b6",
   "metadata": {},
   "source": [
    "We need to create two objects of the DQN class. a policy_net object and a target_net object. The target_net object clones the DQN model and is used to predict the Qvalues based on the next-states that can be passed to the mode. This results in the next Qvalue which is used in the Bellmann calculation. "
   ]
  },
  {
   "cell_type": "code",
   "execution_count": 18,
   "id": "3567954c",
   "metadata": {},
   "outputs": [],
   "source": [
    "policy_net = DQN(num_states, num_actions)\n",
    "target_net  = DQN(num_states, num_actions)\n",
    "target_net.load_state_dict(policy_net.state_dict())\n",
    "target_net.eval() #This network is not in training mode\n",
    "optimizer = optim.SGD(params = policy_net.parameters(), lr = lr, momentum=0.9)"
   ]
  },
  {
   "cell_type": "markdown",
   "id": "b678d397",
   "metadata": {},
   "source": [
    "Now we create 2 for loops, one for the episodes and the other for the timesteps. \n",
    "We have to reset the environment, take an action, update the tuples experience, update the reward and next states.\n"
   ]
  },
  {
   "cell_type": "code",
   "execution_count": 19,
   "id": "e8809c6f",
   "metadata": {},
   "outputs": [],
   "source": [
    "def do_loop():\n",
    "    episode_durations = []\n",
    "    reward_per_ep = []\n",
    "    timestep_list = []\n",
    "    loss_list=[]\n",
    "    for episode in range(num_episodes):\n",
    "        env.reset() \n",
    "        state, true_label = env.get_state(bs)\n",
    "        reward_per_ep.append(0)\n",
    "        #print(\"Episode:\", episode, \"\\n\")\n",
    "\n",
    "        for timestep in range(num_timesteps):\n",
    "            action = agent.select_action(state, policy_net)\n",
    "            reward = env.get_reward(action, true_label)\n",
    "            next_state, true_label_next_state = env.get_state(bs)\n",
    "            memory.push(Experience(state, action, next_state, reward))\n",
    "            reward_per_ep[-1] += (gamma**timestep*reward)\n",
    "\n",
    "            if memory.can_provide_sample(batch_size):\n",
    "                experiences = memory.sample(batch_size)\n",
    "                states, actions, rewards, next_states, batch = extract_tensors(experiences)\n",
    "\n",
    "                #current_q_values = QValues.get_current(policy_net, states, actions)\n",
    "                #next_q_values = QValues.get_next(target_net, next_states)\n",
    "                #target_q_values = (next_q_values * gamma) + rewards\n",
    "\n",
    "                qval = policy_net(states).gather(dim=1, index=actions.unsqueeze(-1)).squeeze(-1)\n",
    "                next_qval = target_net(next_states).max(dim=1)[0].detach()\n",
    "                target_qval = (next_qval * gamma) + rewards\n",
    "                \n",
    "                \n",
    "                loss = F.mse_loss(qval, next_qval)\n",
    "                optimizer.zero_grad()\n",
    "                loss.backward()\n",
    "                optimizer.step()\n",
    "                state = next_state\n",
    "                \n",
    "\n",
    "\n",
    "            if episode % target_update == 0:\n",
    "                target_net.load_state_dict(policy_net.state_dict())\n",
    "                \n",
    "        \n",
    "        loss_list.append(loss.item())        \n",
    "        episode_durations.append(timestep)\n",
    "            \n",
    "            #print(\"timestep:\", timestep,\"action:\",action,\"label:\", true_label,\"reward:\", reward,\"\\n\")\n",
    "        \n",
    "    return episode_durations, reward_per_ep, loss_list\n"
   ]
  },
  {
   "cell_type": "code",
   "execution_count": 21,
   "id": "1232d022",
   "metadata": {},
   "outputs": [],
   "source": [
    "ed, rpe, loss_list = do_loop()"
   ]
  },
  {
   "cell_type": "code",
   "execution_count": 22,
   "id": "1f1daf41",
   "metadata": {},
   "outputs": [
    {
     "data": {
      "image/png": "[encoded data removed]",
      "text/plain": [
       "<Figure size 432x288 with 1 Axes>"
      ]
     },
     "metadata": {
      "needs_background": "light"
     },
     "output_type": "display_data"
    }
   ],
   "source": [
    "plt.plot(loss_list)\n",
    "plt.xlabel(\"episode number\")\n",
    "plt.ylabel(\"Loss\")\n",
    "plt.title(\"reward vs episodes for gamma=0.750 and tp=100\")\n",
    "plt.show()"
   ]
  },
  {
   "cell_type": "code",
   "execution_count": 23,
   "id": "016bd866",
   "metadata": {},
   "outputs": [
    {
     "data": {
      "text/plain": [
       "Text(0.5, 1.0, 'reward vs episodes for gamma=0.750 and tp=100')"
      ]
     },
     "execution_count": 23,
     "metadata": {},
     "output_type": "execute_result"
    },
    {
     "data": {
      "image/png": "[encoded data removed]",
      "text/plain": [
       "<Figure size 432x288 with 1 Axes>"
      ]
     },
     "metadata": {
      "needs_background": "light"
     },
     "output_type": "display_data"
    }
   ],
   "source": [
    "xs = list(range(len(rpe)))\n",
    "plt.plot(xs, rpe)\n",
    "plt.xlabel(\"episode number\")\n",
    "plt.ylabel(\"cumulative reward\")\n",
    "plt.title(\"reward vs episodes for gamma=0.750 and tp=100\")\n"
   ]
  }
 ],
 "metadata": {
  "kernelspec": {
   "display_name": "Python 3",
   "language": "python",
   "name": "python3"
  },
  "language_info": {
   "codemirror_mode": {
    "name": "ipython",
    "version": 3
   },
   "file_extension": ".py",
   "mimetype": "text/x-python",
   "name": "python",
   "nbconvert_exporter": "python",
   "pygments_lexer": "ipython3",
   "version": "3.8.8"
  }
 },
 "nbformat": 4,
 "nbformat_minor": 5
}
